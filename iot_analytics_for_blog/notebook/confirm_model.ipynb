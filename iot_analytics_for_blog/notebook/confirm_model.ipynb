{
 "cells": [
  {
   "cell_type": "markdown",
   "metadata": {},
   "source": [
    "# モデルの確認\n",
    "\n",
    "- ランダムカットフォレストのモデルでバッチ変換\n",
    "- 推論結果を可視化"
   ]
  },
  {
   "cell_type": "markdown",
   "metadata": {},
   "source": [
    "## パラメータ"
   ]
  },
  {
   "cell_type": "code",
   "execution_count": null,
   "metadata": {
    "tags": [
     "parameters"
    ]
   },
   "outputs": [],
   "source": [
    "training_job_name = 'machine-temperature-iot-training-job'\n",
    "labeled_test_data_s3_path = 's3://bucket-name/machine_temperature_iot/test.csv'\n",
    "output_data_s3_path = 's3://bucket-name/machine_temperature_iot/transform'\n",
    "shingle_size = 288"
   ]
  },
  {
   "cell_type": "markdown",
   "metadata": {},
   "source": [
    "## バッチ変換用にデータ形式を変更\n",
    "テスト用データのラベル部分を削除して、バッチ変換に使える形にした上で、S３にアップロードする"
   ]
  },
  {
   "cell_type": "code",
   "execution_count": null,
   "metadata": {},
   "outputs": [],
   "source": [
    "import pandas as pd\n",
    "\n",
    "transform_input_data_local_path = '/tmp/test_transform.csv'\n",
    "pd.read_csv(labeled_test_data_s3_path, header=None)\\\n",
    "    .drop(columns=0)\\\n",
    "    .to_csv(transform_input_data_local_path, header=None, index=None)\n"
   ]
  },
  {
   "cell_type": "code",
   "execution_count": null,
   "metadata": {},
   "outputs": [],
   "source": [
    "from os import path\n",
    "transform_input_data_s3_path = path.join(path.dirname(labeled_test_data_s3_path), 'test_transform.csv')\n",
    "!aws s3 cp $transform_input_data_local_path $transform_input_data_s3_path"
   ]
  },
  {
   "cell_type": "markdown",
   "metadata": {},
   "source": [
    "## バッチ変換"
   ]
  },
  {
   "cell_type": "code",
   "execution_count": null,
   "metadata": {},
   "outputs": [],
   "source": [
    "from sagemaker.estimator import Estimator\n",
    "model = Estimator.attach(training_job_name=training_job_name)\n"
   ]
  },
  {
   "cell_type": "code",
   "execution_count": null,
   "metadata": {},
   "outputs": [],
   "source": [
    "transformer = model.transformer(\n",
    "    instance_count=1,\n",
    "    instance_type='ml.m4.xlarge',\n",
    "    strategy='MultiRecord',\n",
    "    assemble_with='Line',\n",
    "    output_path=output_data_s3_path\n",
    ")"
   ]
  },
  {
   "cell_type": "code",
   "execution_count": null,
   "metadata": {},
   "outputs": [],
   "source": [
    "transformer.transform(\n",
    "    transform_input_data_s3_path,\n",
    "    content_type='text/csv',\n",
    "    split_type='Line'\n",
    ")\n",
    "transformer.wait()\n"
   ]
  },
  {
   "cell_type": "markdown",
   "metadata": {},
   "source": [
    "## 推論結果を取得"
   ]
  },
  {
   "cell_type": "code",
   "execution_count": null,
   "metadata": {},
   "outputs": [],
   "source": [
    "temp_path = '/tmp/transform_output/'\n",
    "!aws s3 sync $transformer.output_path $temp_path"
   ]
  },
  {
   "cell_type": "code",
   "execution_count": null,
   "metadata": {},
   "outputs": [],
   "source": [
    "from os import path\n",
    "# バッチ変換の結果ファイルは入力ファイル名に.outが付いている\n",
    "output_path = path.join(temp_path, path.basename(transform_input_data_s3_path))+'.out'\n"
   ]
  },
  {
   "cell_type": "code",
   "execution_count": null,
   "metadata": {},
   "outputs": [],
   "source": [
    "!head $output_path"
   ]
  },
  {
   "cell_type": "code",
   "execution_count": null,
   "metadata": {},
   "outputs": [],
   "source": [
    "import json\n",
    "with open(output_path) as f:\n",
    "    lines = f.readlines()\n",
    "    scores = list(map(lambda l : json.loads(l)['score'], lines))\n",
    "\n"
   ]
  },
  {
   "cell_type": "code",
   "execution_count": null,
   "metadata": {},
   "outputs": [],
   "source": [
    "import pandas as pd\n",
    "df = pd.read_csv(labeled_test_data_s3_path, header=None)\n",
    "\n",
    "# 異常度スコアを入れる\n",
    "df_format =  pd.DataFrame(data={\n",
    "    'is_anomaly': df.iloc[:, 0], # 異常値かどうか\n",
    "    'value': df.iloc[:, shingle_size], # 温度の値\n",
    "    'score': scores, # 異常度スコア\n",
    "    'anomaly_threshold': [0]*len(df) # 異常度の閾値(この後計算する)\n",
    "})"
   ]
  },
  {
   "cell_type": "markdown",
   "metadata": {},
   "source": [
    "## 異常度スコアの閾値を計算"
   ]
  },
  {
   "cell_type": "code",
   "execution_count": null,
   "metadata": {
    "scrolled": false
   },
   "outputs": [],
   "source": [
    "score_mean = df_format.score.mean()\n",
    "score_std = df_format.score.std()\n",
    "score_cutoff = score_mean + 1 * score_std\n",
    "df_format['anomaly_threshold'] = pd.Series([score_cutoff]*len(df_format), df_format.index)"
   ]
  },
  {
   "cell_type": "markdown",
   "metadata": {},
   "source": [
    "## 結果を可視化"
   ]
  },
  {
   "cell_type": "code",
   "execution_count": null,
   "metadata": {},
   "outputs": [],
   "source": [
    "import numpy as np\n",
    "import matplotlib.pyplot as plt\n",
    "import seaborn as sns\n",
    "# pyplotで描画する図を綺麗にする\n",
    "sns.set()\n",
    "\n",
    "# 図がインラインで描画されるようにする(JupyterLabでは不要)\n",
    "%matplotlib inline\n",
    "\n",
    "fig, ax1 = plt.subplots()\n",
    "ax2 = ax1.twinx()\n",
    "\n",
    "ax1.plot(df_format.value, color='C0', alpha=0.7)\n",
    "ax2.plot(df_format.score, color='C1', alpha=0.7)\n",
    "\n",
    "# 異常値のラベルデータ\n",
    "anomalies_true = df_format[df_format.is_anomaly == 1]\n",
    "ax1.plot(anomalies_true.value, 'ko' )\n",
    "\n",
    "# 推論による異常値\n",
    "anomalies_infer = df_format.score[df_format.score >= score_cutoff]\n",
    "ax2.plot(anomalies_infer, 'ro' )\n",
    "ax2.plot(df_format.anomaly_threshold, 'r', alpha=0.5)\n",
    "\n",
    "ax1.grid(which='major', axis='both')\n",
    "ax1.set_ylabel('Machine Temperature', color='C0')\n",
    "ax2.set_ylabel('Anomaly Score', color='C1')\n",
    "ax1.tick_params('y', colors='C0')\n",
    "ax2.tick_params('y', colors='C1')\n",
    "ax1.set_ylim(0, max(df_format.value))\n",
    "ax2.set_ylim(min(df_format.score), 1.5*max(max(df_format.score), score_cutoff)+1)\n",
    "fig.set_figwidth(12)\n",
    "plt.show()"
   ]
  }
 ],
 "metadata": {
  "kernelspec": {
   "display_name": "conda_python3",
   "language": "python",
   "name": "conda_python3"
  },
  "language_info": {
   "codemirror_mode": {
    "name": "ipython",
    "version": 3
   },
   "file_extension": ".py",
   "mimetype": "text/x-python",
   "name": "python",
   "nbconvert_exporter": "python",
   "pygments_lexer": "ipython3",
   "version": "3.6.5"
  },
  "notice": "Copyright 2018 Amazon.com, Inc. or its affiliates. All Rights Reserved.  Licensed under the Apache License, Version 2.0 (the \"License\"). You may not use this file except in compliance with the License. A copy of the License is located at http://aws.amazon.com/apache2.0/ or in the \"license\" file accompanying this file. This file is distributed on an \"AS IS\" BASIS, WITHOUT WARRANTIES OR CONDITIONS OF ANY KIND, either express or implied. See the License for the specific language governing permissions and limitations under the License."
 },
 "nbformat": 4,
 "nbformat_minor": 2
}
