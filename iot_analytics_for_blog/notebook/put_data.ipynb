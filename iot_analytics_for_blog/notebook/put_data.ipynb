{
 "cells": [
  {
   "cell_type": "markdown",
   "metadata": {},
   "source": [
    "# AWS IoT チャネルにデータをいれる"
   ]
  },
  {
   "cell_type": "code",
   "execution_count": null,
   "metadata": {
    "tags": [
     "parameters"
    ]
   },
   "outputs": [],
   "source": [
    "channel_name = 'channel_name'\n",
    "csv_data_source = 'https://raw.githubusercontent.com/numenta/NAB/master/data/realKnownCause/machine_temperature_system_failure.csv'\n",
    "data_split_size = 100 "
   ]
  },
  {
   "cell_type": "code",
   "execution_count": null,
   "metadata": {},
   "outputs": [],
   "source": [
    "import boto3\n",
    "iota_client = boto3.client('iotanalytics')"
   ]
  },
  {
   "cell_type": "code",
   "execution_count": null,
   "metadata": {},
   "outputs": [],
   "source": [
    "import pandas as pd\n",
    "from more_itertools import chunked\n",
    "\n",
    "df = pd.read_csv(csv_data_source)\n",
    "for df_sub in chunked(df.iterrows(), data_split_size):\n",
    "    format_messages = []\n",
    "    for index, row in df_sub:\n",
    "        format_messages.append(dict(\n",
    "            messageId = str(index+1),\n",
    "            payload = row.to_json()\n",
    "        ))\n",
    "\n",
    "    response = iota_client.batch_put_message(channelName=channel_name, messages=format_messages)\n",
    "    print(response)\n",
    "    "
   ]
  }
 ],
 "metadata": {
  "kernelspec": {
   "display_name": "conda_python3",
   "language": "python",
   "name": "conda_python3"
  },
  "language_info": {
   "codemirror_mode": {
    "name": "ipython",
    "version": 3
   },
   "file_extension": ".py",
   "mimetype": "text/x-python",
   "name": "python",
   "nbconvert_exporter": "python",
   "pygments_lexer": "ipython3",
   "version": "3.6.5"
  }
 },
 "nbformat": 4,
 "nbformat_minor": 2
}
