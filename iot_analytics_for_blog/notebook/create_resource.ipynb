{
 "cells": [
  {
   "cell_type": "markdown",
   "metadata": {},
   "source": [
    "# AWS IoT関連のリソースを作る"
   ]
  },
  {
   "cell_type": "code",
   "execution_count": null,
   "metadata": {
    "tags": [
     "parameters"
    ]
   },
   "outputs": [],
   "source": [
    "\n",
    "channel_name = 'channel-name'\n",
    "pipeline_name = 'pipeline-name'\n",
    "datastore_name = 'datastore-name'\n",
    "train_dataset_name = 'dataset_train'\n",
    "test_dataset_name = 'dataset_test'"
   ]
  },
  {
   "cell_type": "code",
   "execution_count": null,
   "metadata": {},
   "outputs": [],
   "source": [
    "import boto3\n",
    "iota_client = boto3.client('iotanalytics')\n"
   ]
  },
  {
   "cell_type": "markdown",
   "metadata": {},
   "source": [
    "# チャネル作成"
   ]
  },
  {
   "cell_type": "code",
   "execution_count": null,
   "metadata": {},
   "outputs": [],
   "source": [
    "response = iota_client.create_channel(\n",
    "    channelName=channel_name,\n",
    "    retentionPeriod={\n",
    "        'unlimited': False,\n",
    "        'numberOfDays': 1\n",
    "    }\n",
    ")\n",
    "print(response)\n"
   ]
  },
  {
   "cell_type": "markdown",
   "metadata": {},
   "source": [
    "# データストア作成"
   ]
  },
  {
   "cell_type": "code",
   "execution_count": null,
   "metadata": {},
   "outputs": [],
   "source": [
    "response = iota_client.create_datastore(\n",
    "    datastoreName=datastore_name,\n",
    "    retentionPeriod={\n",
    "        'unlimited': False,\n",
    "        'numberOfDays': 1\n",
    "    },\n",
    ")\n",
    "print(response)\n"
   ]
  },
  {
   "cell_type": "markdown",
   "metadata": {},
   "source": [
    "# パイプライン作成"
   ]
  },
  {
   "cell_type": "code",
   "execution_count": null,
   "metadata": {},
   "outputs": [],
   "source": [
    "datastore_activity_name = 'datastore_activity'\n",
    "response = iota_client.create_pipeline(\n",
    "    pipelineName=pipeline_name,\n",
    "    pipelineActivities=[\n",
    "        {\n",
    "            'channel': {\n",
    "                'name': 'channel_activity',\n",
    "                'channelName': channel_name,\n",
    "                'next': datastore_activity_name\n",
    "            }\n",
    "        },\n",
    "        {\n",
    "            'datastore': {\n",
    "                'name': datastore_activity_name,\n",
    "                'datastoreName': datastore_name\n",
    "            },\n",
    "        }\n",
    "    ]\n",
    ")\n",
    "print(response)\n"
   ]
  },
  {
   "cell_type": "markdown",
   "metadata": {},
   "source": [
    "# データセット作成"
   ]
  },
  {
   "cell_type": "code",
   "execution_count": null,
   "metadata": {},
   "outputs": [],
   "source": [
    "bound_ts = '2013-12-10 00:00:00'\n",
    "\n",
    "dataset_creation_params = [\n",
    "    {\n",
    "        'dataset_name': train_dataset_name,\n",
    "        'action_name': 'train_query',\n",
    "        'sql_condition': 'WHERE CAST(\"timestamp\" AS TIMESTAMP) < TIMESTAMP \\'{}\\''.format(bound_ts)\n",
    "    },{\n",
    "        'dataset_name': test_dataset_name,\n",
    "        'action_name': 'test_query',\n",
    "        'sql_condition': 'WHERE CAST(\"timestamp\" AS TIMESTAMP) >= TIMESTAMP \\'{}\\''.format(bound_ts)\n",
    "    }\n",
    "]\n"
   ]
  },
  {
   "cell_type": "code",
   "execution_count": null,
   "metadata": {},
   "outputs": [],
   "source": [
    "for param_dic in dataset_creation_params:\n",
    "    response = iota_client.create_dataset(\n",
    "        datasetName=param_dic['dataset_name'],\n",
    "        actions=[\n",
    "            {\n",
    "                'actionName': param_dic['action_name'],\n",
    "                'queryAction': {\n",
    "                    'sqlQuery': 'SELECT * FROM \"{}\" {}'.format(\n",
    "                        datastore_name,\n",
    "                        param_dic['sql_condition']\n",
    "                    )\n",
    "                },\n",
    "            }\n",
    "        ],\n",
    "        retentionPeriod={\n",
    "            'unlimited': False,\n",
    "            'numberOfDays': 1\n",
    "        }\n",
    "    )\n",
    "    \n",
    "    print(response)"
   ]
  }
 ],
 "metadata": {
  "kernelspec": {
   "display_name": "conda_python3",
   "language": "python",
   "name": "conda_python3"
  },
  "language_info": {
   "codemirror_mode": {
    "name": "ipython",
    "version": 3
   },
   "file_extension": ".py",
   "mimetype": "text/x-python",
   "name": "python",
   "nbconvert_exporter": "python",
   "pygments_lexer": "ipython3",
   "version": "3.6.5"
  }
 },
 "nbformat": 4,
 "nbformat_minor": 2
}
