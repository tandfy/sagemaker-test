{
 "cells": [
  {
   "cell_type": "markdown",
   "metadata": {},
   "source": [
    "# ランダムカットフォレストモデルの学習\n",
    "## ライブラリの読み込み"
   ]
  },
  {
   "cell_type": "code",
   "execution_count": null,
   "metadata": {},
   "outputs": [],
   "source": [
    "import boto3\n",
    "import sagemaker\n",
    "from sagemaker.estimator import Estimator\n",
    "from sagemaker.amazon.amazon_estimator import get_image_uri"
   ]
  },
  {
   "cell_type": "markdown",
   "metadata": {},
   "source": [
    "##  パラメータ"
   ]
  },
  {
   "cell_type": "code",
   "execution_count": null,
   "metadata": {
    "isConfigCell": true,
    "tags": [
     "parameters"
    ]
   },
   "outputs": [],
   "source": [
    "\n",
    "train_s3_path = 's3://bucket-name/sagemaker/iot-analytics/machine-temperature/train.csv'\n",
    "test_s3_path = 's3://bucket-name/sagemaker/iot-analytics/machine-temperature/test.csv'\n",
    "\n",
    "# 学習とエンドポイントの展開を行う際に使うIAMロール名\n",
    "execution_role = sagemaker.get_execution_role()\n",
    "\n",
    "hyperparameters = dict(\n",
    "    num_samples_per_tree=256,\n",
    "    num_trees=100,\n",
    "    feature_dim=12*24\n",
    ")\n",
    "\n",
    "model_artifact_path = 's3://bucket-name/sagemaker/iot-analytics/machine-temperature/'\n",
    "base_job_name = 'rcf_iot_analytics'"
   ]
  },
  {
   "cell_type": "markdown",
   "metadata": {},
   "source": [
    "## 学習"
   ]
  },
  {
   "cell_type": "code",
   "execution_count": null,
   "metadata": {},
   "outputs": [],
   "source": [
    "\n",
    "# ランダムカットフォレスト用のコンテナイメージ\n",
    "training_image = get_image_uri(boto3.Session().region_name, 'randomcutforest')\n",
    "\n",
    "# 学習用処理の設定\n",
    "rcf = Estimator(\n",
    "    role=execution_role,\n",
    "    train_instance_count=1,\n",
    "    train_instance_type='ml.m4.xlarge',\n",
    "    output_path=model_artifact_path,\n",
    "    base_job_name=base_job_name,\n",
    "    image_name=training_image\n",
    ")\n",
    "\n",
    "# ハイパーパラメータの設定\n",
    "rcf.set_hyperparameters(**hyperparameters)\n",
    "\n",
    "# 教師データ\n",
    "train_s3_data = sagemaker.s3_input(\n",
    "   s3_data = train_s3_path,\n",
    "   content_type = 'text/csv;label_size=0',\n",
    "   distribution = 'ShardedByS3Key'\n",
    ")\n",
    "\n",
    "# テストデータ\n",
    "test_s3_data = sagemaker.s3_input(\n",
    "   s3_data = test_s3_path,\n",
    "   content_type = 'text/csv;label_size=1',\n",
    "   distribution = 'FullyReplicated'\n",
    ")\n",
    "\n",
    "\n",
    "# 学習開始\n",
    "rcf.fit({'train': train_s3_data, 'test': test_s3_data}, wait=True)\n"
   ]
  },
  {
   "cell_type": "markdown",
   "metadata": {},
   "source": [
    "## ジョブ名を保存"
   ]
  },
  {
   "cell_type": "code",
   "execution_count": null,
   "metadata": {},
   "outputs": [],
   "source": [
    "import papermill as pm\n",
    "pm.record('job_name', rcf.latest_training_job.name)\n"
   ]
  }
 ],
 "metadata": {
  "kernelspec": {
   "display_name": "conda_python3",
   "language": "python",
   "name": "conda_python3"
  },
  "language_info": {
   "codemirror_mode": {
    "name": "ipython",
    "version": 3
   },
   "file_extension": ".py",
   "mimetype": "text/x-python",
   "name": "python",
   "nbconvert_exporter": "python",
   "pygments_lexer": "ipython3",
   "version": "3.6.5"
  },
  "notice": "Copyright 2018 Amazon.com, Inc. or its affiliates. All Rights Reserved.  Licensed under the Apache License, Version 2.0 (the \"License\"). You may not use this file except in compliance with the License. A copy of the License is located at http://aws.amazon.com/apache2.0/ or in the \"license\" file accompanying this file. This file is distributed on an \"AS IS\" BASIS, WITHOUT WARRANTIES OR CONDITIONS OF ANY KIND, either express or implied. See the License for the specific language governing permissions and limitations under the License."
 },
 "nbformat": 4,
 "nbformat_minor": 2
}
